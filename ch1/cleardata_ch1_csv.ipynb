{
  "nbformat": 4,
  "nbformat_minor": 0,
  "metadata": {
    "colab": {
      "name": "cleardata_ch1_csv.ipynb",
      "provenance": [],
      "authorship_tag": "ABX9TyNI8yFYPQtxwEbupAenywiy",
      "include_colab_link": true
    },
    "kernelspec": {
      "name": "python3",
      "display_name": "Python 3"
    },
    "language_info": {
      "name": "python"
    }
  },
  "cells": [
    {
      "cell_type": "markdown",
      "metadata": {
        "id": "view-in-github",
        "colab_type": "text"
      },
      "source": [
        "<a href=\"https://colab.research.google.com/github/wangshouh/InteractiveScore/blob/main/ch1/cleardata_ch1_csv.ipynb\" target=\"_parent\"><img src=\"https://colab.research.google.com/assets/colab-badge.svg\" alt=\"Open In Colab\"/></a>"
      ]
    },
    {
      "cell_type": "code",
      "metadata": {
        "id": "hGlteIS1DXmU"
      },
      "source": [
        "import pandas as pd"
      ],
      "execution_count": null,
      "outputs": []
    },
    {
      "cell_type": "code",
      "metadata": {
        "id": "nmtznFOVDeSM"
      },
      "source": [
        "landtemps = pd.read_csv(\n",
        "    'https://raw.githubusercontent.com/PacktPublishing/Python-Data-Cleaning-Cookbook/master/Chapter01/data/landtempssample.csv',\n",
        "    names = [\n",
        "             'stationid', 'year', 'month', 'avgtemp', 'latitude', 'longitude', 'evevation',\n",
        "             'station', 'countryid', 'country'\n",
        "             ],\n",
        "    skiprows = 1,\n",
        "    parse_dates = [['month', 'year']],\n",
        "    low_memory=False\n",
        "\n",
        "                        )"
      ],
      "execution_count": null,
      "outputs": []
    },
    {
      "cell_type": "code",
      "metadata": {
        "colab": {
          "base_uri": "https://localhost:8080/",
          "height": 206
        },
        "id": "D2NDJ9aNE7v1",
        "outputId": "1e8bee2f-6cef-4415-f259-a0ad09001c6c"
      },
      "source": [
        "landtemps.head()"
      ],
      "execution_count": null,
      "outputs": [
        {
          "output_type": "execute_result",
          "data": {
            "text/html": [
              "<div>\n",
              "<style scoped>\n",
              "    .dataframe tbody tr th:only-of-type {\n",
              "        vertical-align: middle;\n",
              "    }\n",
              "\n",
              "    .dataframe tbody tr th {\n",
              "        vertical-align: top;\n",
              "    }\n",
              "\n",
              "    .dataframe thead th {\n",
              "        text-align: right;\n",
              "    }\n",
              "</style>\n",
              "<table border=\"1\" class=\"dataframe\">\n",
              "  <thead>\n",
              "    <tr style=\"text-align: right;\">\n",
              "      <th></th>\n",
              "      <th>month_year</th>\n",
              "      <th>stationid</th>\n",
              "      <th>avgtemp</th>\n",
              "      <th>latitude</th>\n",
              "      <th>longitude</th>\n",
              "      <th>evevation</th>\n",
              "      <th>station</th>\n",
              "      <th>countryid</th>\n",
              "      <th>country</th>\n",
              "    </tr>\n",
              "  </thead>\n",
              "  <tbody>\n",
              "    <tr>\n",
              "      <th>0</th>\n",
              "      <td>2000-04-01</td>\n",
              "      <td>USS0010K01S</td>\n",
              "      <td>5.27</td>\n",
              "      <td>39.9000</td>\n",
              "      <td>-110.7500</td>\n",
              "      <td>2773.7</td>\n",
              "      <td>INDIAN_CANYON</td>\n",
              "      <td>US</td>\n",
              "      <td>United States</td>\n",
              "    </tr>\n",
              "    <tr>\n",
              "      <th>1</th>\n",
              "      <td>1940-05-01</td>\n",
              "      <td>CI000085406</td>\n",
              "      <td>18.04</td>\n",
              "      <td>-18.3500</td>\n",
              "      <td>-70.3330</td>\n",
              "      <td>58.0</td>\n",
              "      <td>ARICA</td>\n",
              "      <td>CI</td>\n",
              "      <td>Chile</td>\n",
              "    </tr>\n",
              "    <tr>\n",
              "      <th>2</th>\n",
              "      <td>2013-12-01</td>\n",
              "      <td>USC00036376</td>\n",
              "      <td>6.22</td>\n",
              "      <td>34.3703</td>\n",
              "      <td>-91.1242</td>\n",
              "      <td>61.0</td>\n",
              "      <td>SAINT_CHARLES</td>\n",
              "      <td>US</td>\n",
              "      <td>United States</td>\n",
              "    </tr>\n",
              "    <tr>\n",
              "      <th>3</th>\n",
              "      <td>1963-02-01</td>\n",
              "      <td>ASN00024002</td>\n",
              "      <td>22.93</td>\n",
              "      <td>-34.2833</td>\n",
              "      <td>140.6000</td>\n",
              "      <td>65.5</td>\n",
              "      <td>BERRI_IRRIGATION</td>\n",
              "      <td>AS</td>\n",
              "      <td>Australia</td>\n",
              "    </tr>\n",
              "    <tr>\n",
              "      <th>4</th>\n",
              "      <td>2001-11-01</td>\n",
              "      <td>ASN00028007</td>\n",
              "      <td>NaN</td>\n",
              "      <td>-14.7803</td>\n",
              "      <td>143.5036</td>\n",
              "      <td>79.4</td>\n",
              "      <td>MUSGRAVE</td>\n",
              "      <td>AS</td>\n",
              "      <td>Australia</td>\n",
              "    </tr>\n",
              "  </tbody>\n",
              "</table>\n",
              "</div>"
            ],
            "text/plain": [
              "  month_year    stationid  avgtemp  ...           station  countryid        country\n",
              "0 2000-04-01  USS0010K01S     5.27  ...     INDIAN_CANYON         US  United States\n",
              "1 1940-05-01  CI000085406    18.04  ...             ARICA         CI          Chile\n",
              "2 2013-12-01  USC00036376     6.22  ...     SAINT_CHARLES         US  United States\n",
              "3 1963-02-01  ASN00024002    22.93  ...  BERRI_IRRIGATION         AS      Australia\n",
              "4 2001-11-01  ASN00028007      NaN  ...          MUSGRAVE         AS      Australia\n",
              "\n",
              "[5 rows x 9 columns]"
            ]
          },
          "metadata": {},
          "execution_count": 16
        }
      ]
    },
    {
      "cell_type": "code",
      "metadata": {
        "colab": {
          "base_uri": "https://localhost:8080/"
        },
        "id": "OYjNvKh1FBQ1",
        "outputId": "b23dd890-1a92-4700-f349-daed81171cd2"
      },
      "source": [
        "landtemps.dtypes"
      ],
      "execution_count": null,
      "outputs": [
        {
          "output_type": "execute_result",
          "data": {
            "text/plain": [
              "month_year    datetime64[ns]\n",
              "stationid             object\n",
              "avgtemp              float64\n",
              "latitude             float64\n",
              "longitude            float64\n",
              "evevation            float64\n",
              "station               object\n",
              "countryid             object\n",
              "country               object\n",
              "dtype: object"
            ]
          },
          "metadata": {},
          "execution_count": 9
        }
      ]
    },
    {
      "cell_type": "code",
      "metadata": {
        "colab": {
          "base_uri": "https://localhost:8080/"
        },
        "id": "mD1H5UByFPqP",
        "outputId": "263b1f87-9398-47f9-c57c-645b35dbdd9c"
      },
      "source": [
        "landtemps.shape"
      ],
      "execution_count": null,
      "outputs": [
        {
          "output_type": "execute_result",
          "data": {
            "text/plain": [
              "(100000, 9)"
            ]
          },
          "metadata": {},
          "execution_count": 10
        }
      ]
    },
    {
      "cell_type": "code",
      "metadata": {
        "colab": {
          "base_uri": "https://localhost:8080/"
        },
        "id": "P77r4U8VFTE5",
        "outputId": "18346e60-7369-4b41-f116-e0bcca3b12a1"
      },
      "source": [
        "landtemps.isnull().sum()"
      ],
      "execution_count": null,
      "outputs": [
        {
          "output_type": "execute_result",
          "data": {
            "text/plain": [
              "month_year        0\n",
              "stationid         0\n",
              "avgtemp       14446\n",
              "latitude          0\n",
              "longitude         0\n",
              "evevation         0\n",
              "station           0\n",
              "countryid         0\n",
              "country           5\n",
              "dtype: int64"
            ]
          },
          "metadata": {},
          "execution_count": 11
        }
      ]
    },
    {
      "cell_type": "code",
      "metadata": {
        "id": "9-YTOpXlFeMs"
      },
      "source": [
        "landtemps.dropna(subset=['avgtemp'], inplace=True)"
      ],
      "execution_count": null,
      "outputs": []
    },
    {
      "cell_type": "code",
      "metadata": {
        "colab": {
          "base_uri": "https://localhost:8080/"
        },
        "id": "9IyL9PclFpZO",
        "outputId": "aec8195b-079c-4e2d-bbf2-0d4e9d9ef69a"
      },
      "source": [
        "landtemps.shape"
      ],
      "execution_count": null,
      "outputs": [
        {
          "output_type": "execute_result",
          "data": {
            "text/plain": [
              "(85554, 9)"
            ]
          },
          "metadata": {},
          "execution_count": 13
        }
      ]
    }
  ]
}